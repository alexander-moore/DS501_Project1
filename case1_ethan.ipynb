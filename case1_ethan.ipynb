{
 "cells": [
  {
   "cell_type": "markdown",
   "metadata": {},
   "source": [
    "# Case Study 1 : Yelp Data Analysis"
   ]
  },
  {
   "cell_type": "markdown",
   "metadata": {},
   "source": [
    "**Required Readings:** \n",
    "* [Yelp Dataset Challenge](https://www.yelp.com/dataset_challenge) \n",
    "* Please download the Yelp dataset from the above webpage.\n",
    "\n",
    "**NOTE**\n",
    "* Please don't forget to save the notebook frequently when working in Jupyter Notebook, otherwise the changes you made can be lost.\n",
    "\n",
    "\n",
    "Here is an example of the data format. More details are included [here](https://www.yelp.com/dataset_challenge)\n",
    "\n",
    "## Business Objects\n",
    "\n",
    "Business objects contain basic information about local businesses. The fields are as follows:\n",
    "\n",
    "```json\n",
    "{\n",
    "  'type': 'business',\n",
    "  'business_id': (a unique identifier for this business),\n",
    "  'name': (the full business name),\n",
    "  'neighborhoods': (a list of neighborhood names, might be empty),\n",
    "  'full_address': (localized address),\n",
    "  'city': (city),\n",
    "  'state': (state),\n",
    "  'latitude': (latitude),\n",
    "  'longitude': (longitude),\n",
    "  'stars': (star rating, rounded to half-stars),\n",
    "  'review_count': (review count),\n",
    "  'photo_url': (photo url),\n",
    "  'categories': [(localized category names)]\n",
    "  'open': (is the business still open for business?),\n",
    "  'schools': (nearby universities),\n",
    "  'url': (yelp url)\n",
    "}\n",
    "```\n",
    "## Checkin Objects\n",
    "```json\n",
    "{\n",
    "    'type': 'checkin',\n",
    "    'business_id': (encrypted business id),\n",
    "    'checkin_info': {\n",
    "        '0-0': (number of checkins from 00:00 to 01:00 on all Sundays),\n",
    "        '1-0': (number of checkins from 01:00 to 02:00 on all Sundays),\n",
    "        ...\n",
    "        '14-4': (number of checkins from 14:00 to 15:00 on all Thursdays),\n",
    "        ...\n",
    "        '23-6': (number of checkins from 23:00 to 00:00 on all Saturdays)\n",
    "    }, # if there was no checkin for a hour-day block it will not be in the dict\n",
    "}\n",
    "```"
   ]
  },
  {
   "cell_type": "markdown",
   "metadata": {},
   "source": [
    "# Problem: pick a data science problem that you plan to solve using Yelp Data\n",
    "* The problem should be important and interesting, which has a potential impact in some area.\n",
    "* The problem should be solvable using yelp data and data science solutions.\n",
    "\n",
    "Please briefly describe in the following cell: what problem are you trying to solve? why this problem is important and interesting?"
   ]
  },
  {
   "cell_type": "code",
   "execution_count": null,
   "metadata": {},
   "outputs": [],
   "source": [
    "# The problem being solved is from a business perspective. We are attempting to solve the problem of \n",
    "# Receiving a bad review by identifying which phrases are most common in one star reviews from accounts \n",
    "# with only one review. We want to know what events occure that cause a patron to be so upset with a \n",
    "# business that they make a Yelp account just to leave a one star review?"
   ]
  },
  {
   "cell_type": "markdown",
   "metadata": {},
   "source": [
    "# Data Collection/Processing: "
   ]
  },
  {
   "cell_type": "code",
   "execution_count": null,
   "metadata": {},
   "outputs": [],
   "source": [
    "# Your code starts here\n",
    "#   Please add comments or text cells in between to explain the general idea of each block of the code.\n",
    "#   Please feel free to add more cells below this cell if necessary"
   ]
  },
  {
   "cell_type": "markdown",
   "metadata": {},
   "source": [
    "# Data Exploration: Exploring the Yelp Dataset\n",
    "\n",
    "**(1) Finding the most popular business categories:** \n",
    "* print the top 10 most popular business categories in the dataset and their counts (i.e., how many business objects in each category). Here we say a category is \"popular\" if there are many business objects in this category (such as 'restaurants')."
   ]
  },
  {
   "cell_type": "code",
   "execution_count": null,
   "metadata": {},
   "outputs": [],
   "source": [
    "# Import relevant libraries\n",
    "import numpy as np\n",
    "import pandas as pd\n",
    "from collections import Counter\n",
    "# Load Yelp's buisness data\n",
    "data = pd.read_csv('data/business.csv', encoding='latin1')\n",
    "# Add a comma to the end of every list of categories\n",
    "data['categories'] = data['categories'].map(lambda x: str(x)+',')\n",
    "# Concatinate all the lists of categories into one big list\n",
    "big_list = ''.join(data['categories'])\n",
    "# Remove spaces from the big list\n",
    "big_list = big_list.replace(' ','')\n",
    "# Fix double commas in the big list\n",
    "big_list = big_list.replace(',,',',')\n",
    "# Split the categories into a list of categories as they occure\n",
    "big_list = big_list.split(',')\n",
    "# Count the occurance of every category\n",
    "counted_categories = Counter(big_list)\n",
    "# Print the 10 most common categories\n",
    "print(np.array(counted_categories.most_common(10)))"
   ]
  },
  {
   "cell_type": "markdown",
   "metadata": {},
   "source": [
    "** (2) Find the most popular business objects** \n",
    "* print the top 10 most popular business objects in the dataset and their counts (i.e., how many checkins in total for each business object).  Here we say a business object is \"popular\" if the business object attracts a large number of checkins from the users."
   ]
  },
  {
   "cell_type": "code",
   "execution_count": null,
   "metadata": {},
   "outputs": [],
   "source": [
    "# Import relevant libraries\n",
    "import pandas as pd\n",
    "from collections import Counter\n",
    "# Load Yelp's buisness and checkin data\n",
    "buisness_data = pd.read_csv('data/business.csv', encoding='latin1')\n",
    "checkin_data = pd.read_csv('data/checkin.csv', encoding='latin1')\n",
    "# Count how many checkins each buisness has\n",
    "checkin_data['count'] = checkin_data['date'].map(lambda x: str(x).count(',')+1)\n",
    "# Drop irrelevant columns\n",
    "checkin_data.drop(['date','Unnamed: 0'],axis=1,inplace=True)\n",
    "# Sort the buisnesses by their checkin count\n",
    "checkin_data.sort_values(['count'],ascending=False,inplace=True)\n",
    "# Display the first 10 buisness IDs and counts\n",
    "print(checkin_data.head(10).values)"
   ]
  },
  {
   "cell_type": "markdown",
   "metadata": {},
   "source": [
    "# The Solution: implement a data science solution to the problem you are trying to solve."
   ]
  },
  {
   "cell_type": "markdown",
   "metadata": {},
   "source": [
    "Briefly describe the idea of your solution to the problem in the following cell:"
   ]
  },
  {
   "cell_type": "code",
   "execution_count": null,
   "metadata": {},
   "outputs": [],
   "source": [
    "# We will plot the distribution of unique, tokenized, lemmitized one star reviews\n",
    "# from accounts with one review and assume that the most common phrases are the events\n",
    "# that businesses need to try the most to avoid."
   ]
  },
  {
   "cell_type": "markdown",
   "metadata": {},
   "source": [
    "Write codes to implement the solution in python:"
   ]
  },
  {
   "cell_type": "code",
   "execution_count": 96,
   "metadata": {},
   "outputs": [
    {
     "data": {
      "image/png": "[encoded data removed]",
      "text/plain": [
       "<Figure size 432x288 with 1 Axes>"
      ]
     },
     "metadata": {
      "needs_background": "light"
     },
     "output_type": "display_data"
    },
    {
     "data": {
      "image/png": "[encoded data removed]",
      "text/plain": [
       "<Figure size 432x288 with 1 Axes>"
      ]
     },
     "metadata": {
      "needs_background": "light"
     },
     "output_type": "display_data"
    },
    {
     "data": {
      "image/png": "[encoded data removed]",
      "text/plain": [
       "<Figure size 432x288 with 1 Axes>"
      ]
     },
     "metadata": {
      "needs_background": "light"
     },
     "output_type": "display_data"
    },
    {
     "data": {
      "image/png": "[encoded data removed]",
      "text/plain": [
       "<Figure size 432x288 with 1 Axes>"
      ]
     },
     "metadata": {
      "needs_background": "light"
     },
     "output_type": "display_data"
    },
    {
     "data": {
      "text/plain": [
       "<Figure size 432x288 with 0 Axes>"
      ]
     },
     "metadata": {},
     "output_type": "display_data"
    }
   ],
   "source": [
    "# Load in the parsed data and isolate only the one star reviews with at least one useful vote\n",
    "# left by users with only one review.\n",
    "\n",
    "import pandas as pd\n",
    "\n",
    "review_data = pd.read_csv('data/parsed_review.csv', encoding='latin1', engine='python', error_bad_lines=False)\n",
    "user_data = pd.read_csv('data/parsed_user.csv', encoding='latin1', engine='python', error_bad_lines=False)\n",
    "reviews = pd.merge(user_data, review_data, on='user_id', how='outer')\n",
    "reviews['sentence_count'] = reviews['text'].map(lambda x: str(x).count('.') + str(x).count('!') + str(x).count('?'))\n",
    "plt.hist(reviews['useful'],list(range(50)))\n",
    "plt.xlabel('Number of Useful Votes')\n",
    "plt.ylabel('Frequency')\n",
    "plt.show()\n",
    "plt.clf()\n",
    "plt.hist(reviews['sentence_count'],list(range(50)))\n",
    "plt.xlabel('Number of Sentences')\n",
    "plt.ylabel('Frequency')\n",
    "plt.show()\n",
    "plt.clf()\n",
    "reviews = reviews.drop(reviews[reviews['useful'] < 1].index)\n",
    "reviews = reviews.drop(reviews[reviews['sentence_count'] != 1].index)\n",
    "plt.hist(reviews['useful'],list(range(50)))\n",
    "plt.xlabel('Number of Useful Votes')\n",
    "plt.ylabel('Frequency')\n",
    "plt.show()\n",
    "plt.clf()\n",
    "plt.hist(reviews['sentence_count'],list(range(50)))\n",
    "plt.xlabel('Number of Sentences')\n",
    "plt.ylabel('Frequency')\n",
    "plt.show()\n",
    "plt.clf()"
   ]
  },
  {
   "cell_type": "code",
   "execution_count": null,
   "metadata": {},
   "outputs": [],
   "source": [
    "# Create embeddings of all the reviews\n",
    "\n",
    "from InferSent.models import InferSent\n",
    "import torch\n",
    "\n",
    "model = InferSent({'bsize': 64, 'word_emb_dim': 300, 'enc_lstm_dim': 2048, 'pool_type': 'max', 'dpout_model': 0.0, 'version': 2})\n",
    "model.load_state_dict(torch.load('encoder/infersent2.pkl'))\n",
    "model.set_w2v_path('fastText/crawl-300d-2M.vec')\n",
    "model.build_vocab_k_words(K=100000)\n",
    "embeddings = model.encode(reviews['text'], bsize=128, tokenize=False, verbose=True)"
   ]
  },
  {
   "cell_type": "code",
   "execution_count": 103,
   "metadata": {
    "scrolled": true
   },
   "outputs": [
    {
     "name": "stdout",
     "output_type": "stream",
     "text": [
      "['What the hell happened to this place, the new menu sucks, the size of servings shrunk, and the quality of the food is uber mediocre. Will not come anymore'\n",
      " 'me and my coworker waited for over an hour for just 2 bowl of phos. and wheb we asking waitress about our orders the waitress just walked away']\n",
      "[[ 0.00746889 -0.04002672  0.11342745 ...  0.00595205  0.07626151\n",
      "  -0.00635999]\n",
      " [ 0.00746889 -0.01814748  0.04581    ...  0.02196765  0.08440708\n",
      "  -0.00887392]\n",
      " [ 0.00746889 -0.06945133  0.10283796 ... -0.00449271 -0.0001681\n",
      "  -0.02435888]\n",
      " ...\n",
      " [ 0.00746889 -0.00762606  0.08259026 ...  0.03554407  0.06850035\n",
      "   0.00075327]\n",
      " [ 0.00746889 -0.07472447  0.03286474 ...  0.01323174  0.02113765\n",
      "  -0.00350184]\n",
      " [ 0.00746889 -0.02781818  0.14583996 ...  0.03921724  0.0512539\n",
      "   0.0005198 ]]\n"
     ]
    }
   ],
   "source": [
    "print(reviews['text'].values[0:2])\n",
    "print(embeddings[0:10])"
   ]
  },
  {
   "cell_type": "code",
   "execution_count": 107,
   "metadata": {},
   "outputs": [
    {
     "name": "stdout",
     "output_type": "stream",
     "text": [
      "{-1: 5562, 0: 1384}\n"
     ]
    },
    {
     "ename": "IndexError",
     "evalue": "only integers, slices (`:`), ellipsis (`...`), numpy.newaxis (`None`) and integer or boolean arrays are valid indices",
     "output_type": "error",
     "traceback": [
      "\u001b[1;31m---------------------------------------------------------------------------\u001b[0m",
      "\u001b[1;31mIndexError\u001b[0m                                Traceback (most recent call last)",
      "\u001b[1;32m<ipython-input-107-f40984ec0b9a>\u001b[0m in \u001b[0;36m<module>\u001b[1;34m\u001b[0m\n\u001b[0;32m     10\u001b[0m \u001b[0mcounts\u001b[0m \u001b[1;33m=\u001b[0m \u001b[0mdict\u001b[0m\u001b[1;33m(\u001b[0m\u001b[0mzip\u001b[0m\u001b[1;33m(\u001b[0m\u001b[0munique\u001b[0m\u001b[1;33m,\u001b[0m \u001b[0mcounts\u001b[0m\u001b[1;33m)\u001b[0m\u001b[1;33m)\u001b[0m\u001b[1;33m\u001b[0m\u001b[1;33m\u001b[0m\u001b[0m\n\u001b[0;32m     11\u001b[0m \u001b[0mprint\u001b[0m\u001b[1;33m(\u001b[0m\u001b[0mcounts\u001b[0m\u001b[1;33m)\u001b[0m\u001b[1;33m\u001b[0m\u001b[1;33m\u001b[0m\u001b[0m\n\u001b[1;32m---> 12\u001b[1;33m \u001b[0mprint\u001b[0m\u001b[1;33m(\u001b[0m\u001b[0mreviews\u001b[0m\u001b[1;33m[\u001b[0m\u001b[1;34m'text'\u001b[0m\u001b[1;33m]\u001b[0m\u001b[1;33m.\u001b[0m\u001b[0mvalues\u001b[0m\u001b[1;33m[\u001b[0m\u001b[0mmembership\u001b[0m\u001b[1;33m==\u001b[0m\u001b[1;36m0\u001b[0m\u001b[1;33m]\u001b[0m\u001b[1;33m[\u001b[0m\u001b[1;33m:\u001b[0m\u001b[1;36m10\u001b[0m\u001b[1;33m]\u001b[0m\u001b[1;33m)\u001b[0m\u001b[1;33m\u001b[0m\u001b[1;33m\u001b[0m\u001b[0m\n\u001b[0m\u001b[0;32m     13\u001b[0m \u001b[0mprint\u001b[0m\u001b[1;33m(\u001b[0m\u001b[0mmembership\u001b[0m\u001b[1;33m)\u001b[0m\u001b[1;33m\u001b[0m\u001b[1;33m\u001b[0m\u001b[0m\n\u001b[0;32m     14\u001b[0m \u001b[0mreviews\u001b[0m \u001b[1;33m=\u001b[0m \u001b[0mreviews\u001b[0m\u001b[1;33m[\u001b[0m\u001b[1;34m'text'\u001b[0m\u001b[1;33m]\u001b[0m\u001b[1;33m.\u001b[0m\u001b[0mvalues\u001b[0m\u001b[1;33m[\u001b[0m\u001b[0mmembership\u001b[0m\u001b[1;33m==\u001b[0m\u001b[1;36m0\u001b[0m\u001b[1;33m]\u001b[0m\u001b[1;33m\u001b[0m\u001b[1;33m\u001b[0m\u001b[0m\n",
      "\u001b[1;31mIndexError\u001b[0m: only integers, slices (`:`), ellipsis (`...`), numpy.newaxis (`None`) and integer or boolean arrays are valid indices"
     ]
    }
   ],
   "source": [
    "# Use clustering to form groups of sentences with similar meanings\n",
    "\n",
    "import numpy as np\n",
    "import pandas as pd \n",
    "from sklearn.cluster import DBSCAN\n",
    "\n",
    "c = DBSCAN(eps=0.2, min_samples=100, metric='cosine').fit(embeddings)\n",
    "membership = c.labels_\n",
    "unique, counts = np.unique(membership, return_counts=True)\n",
    "counts = dict(zip(unique, counts))\n",
    "reviews = reviews['text'].values[membership==0]"
   ]
  },
  {
   "cell_type": "code",
   "execution_count": 109,
   "metadata": {},
   "outputs": [
    {
     "name": "stdout",
     "output_type": "stream",
     "text": [
      "[-1 -1 -1 -1 -1 -1 -1 -1 -1 -1]\n"
     ]
    }
   ],
   "source": [
    "print(counts)\n",
    "print(membership[:10])"
   ]
  },
  {
   "cell_type": "code",
   "execution_count": 111,
   "metadata": {},
   "outputs": [
    {
     "data": {
      "image/png": "[encoded data removed]",
      "text/plain": [
       "<Figure size 432x288 with 1 Axes>"
      ]
     },
     "metadata": {
      "needs_background": "light"
     },
     "output_type": "display_data"
    },
    {
     "data": {
      "image/png": "[encoded data removed]",
      "text/plain": [
       "<Figure size 432x288 with 1 Axes>"
      ]
     },
     "metadata": {
      "needs_background": "light"
     },
     "output_type": "display_data"
    }
   ],
   "source": [
    "from nltk.tokenize import word_tokenize\n",
    "from nltk.corpus import stopwords\n",
    "from nltk.probability import FreqDist\n",
    "import matplotlib.pyplot as plt\n",
    "\n",
    "stop_words=set(stopwords.words(\"english\"))\n",
    "\n",
    "words = []\n",
    "for r in review_data['text'].values:\n",
    "    t = word_tokenize(str(r))\n",
    "    for w in range(len(t)-3):\n",
    "        a = t[w] not in stop_words\n",
    "        b = t[w+1] not in stop_words\n",
    "        c = t[w+2] not in stop_words\n",
    "        if a and b and c:\n",
    "            words.append(t[w] + ' ' + t[w+1] + ' ' + t[w+2])\n",
    "\n",
    "fd = FreqDist(words)\n",
    "fd.plot(20,cumulative=False)\n",
    "plt.title('Most Common Phrases Before Processing')\n",
    "plt.show()"
   ]
  },
  {
   "cell_type": "code",
   "execution_count": 112,
   "metadata": {},
   "outputs": [
    {
     "data": {
      "image/png": "[encoded data removed]",
      "text/plain": [
       "<Figure size 432x288 with 1 Axes>"
      ]
     },
     "metadata": {
      "needs_background": "light"
     },
     "output_type": "display_data"
    },
    {
     "data": {
      "image/png": "[encoded data removed]",
      "text/plain": [
       "<Figure size 432x288 with 1 Axes>"
      ]
     },
     "metadata": {
      "needs_background": "light"
     },
     "output_type": "display_data"
    }
   ],
   "source": [
    "from nltk.tokenize import word_tokenize\n",
    "from nltk.corpus import stopwords\n",
    "from nltk.probability import FreqDist\n",
    "import matplotlib.pyplot as plt\n",
    "\n",
    "stop_words=set(stopwords.words(\"english\"))\n",
    "\n",
    "words = []\n",
    "for r in reviews:\n",
    "    t = word_tokenize(r)\n",
    "    for w in range(len(t)-3):\n",
    "        a = t[w] not in stop_words\n",
    "        b = t[w+1] not in stop_words\n",
    "        c = t[w+2] not in stop_words\n",
    "        if a and b and c:\n",
    "            words.append(t[w] + ' ' + t[w+1] + ' ' + t[w+2])\n",
    "\n",
    "fd = FreqDist(words)\n",
    "fd.plot(20,cumulative=False)\n",
    "plt.title('Most Common Phrases After Processing')\n",
    "plt.show()"
   ]
  },
  {
   "cell_type": "markdown",
   "metadata": {},
   "source": [
    "# Results: summarize and visualize the results discovered from the analysis\n",
    "\n",
    "Please use figures, tables, or videos to communicate the results with the audience.\n"
   ]
  },
  {
   "cell_type": "code",
   "execution_count": null,
   "metadata": {},
   "outputs": [],
   "source": [
    "# Your code starts here\n",
    "#   Please add comments or text cells in between to explain the general idea of each block of the code.\n",
    "#   Please feel free to add more cells below this cell if necessary\n",
    "\n",
    "\n",
    "\n",
    "\n",
    "\n",
    "\n"
   ]
  },
  {
   "cell_type": "markdown",
   "metadata": {},
   "source": [
    "*-----------------\n",
    "# Done\n",
    "\n",
    "All set! \n",
    "\n",
    "**What do you need to submit?**\n",
    "\n",
    "* **Notebook File**: Save this Jupyter notebook, and find the notebook file in your folder (for example, \"filename.ipynb\"). This is the file you need to submit. Please make sure all the plotted tables and figures are in the notebook. If you used \"jupyter notebook --pylab=inline\" to open the notebook, all the figures and tables should have shown up in the notebook.\n",
    "\n",
    "* **PPT Slides**: please prepare PPT slides (for 7 minutes' talk) to present about the case study . Each team present their case studies in class for 7 minutes.\n",
    "\n",
    "Please compress all the files in a zipped file.\n",
    "\n",
    "\n",
    "**How to submit:**\n",
    "\n",
    "        Please submit through Canvas, in the Assignment \"Case Study 1\".\n",
    "        \n",
    "**Note: Each team only needs to submit one submission in Canvas**"
   ]
  },
  {
   "cell_type": "markdown",
   "metadata": {},
   "source": [
    "\n",
    "# Peer-Review Grading Template:\n",
    "\n",
    "**Total Points: (100 points)** Please don't worry about the absolute scores, we will rescale the final grading according to the performance of all teams in the class.\n",
    "\n",
    "Please add an \"**X**\" mark in front of your rating: \n",
    "\n",
    "For example:\n",
    "\n",
    "*2: bad*\n",
    "          \n",
    "**X** *3: good*\n",
    "    \n",
    "*4: perfect*\n",
    "\n",
    "\n",
    "    ---------------------------------\n",
    "    The Problem: \n",
    "    ---------------------------------\n",
    "    \n",
    "    1. (10 points) how well did the team describe the problem they are trying to solve using the data? \n",
    "       0: not clear\n",
    "       2: I can barely understand the problem\n",
    "       4: okay, can be improved\n",
    "       6: good, but can be improved\n",
    "       8: very good\n",
    "       10: crystal clear\n",
    "    \n",
    "    2. (10 points) do you think the problem is important or has a potential impact?\n",
    "        0: not important at all\n",
    "        2: not sure if it is important\n",
    "        4: seems important, but not clear\n",
    "        6: interesting problem\n",
    "        8: an important problem, which I want to know the answer myself\n",
    "       10: very important, I would be happy invest money on a project like this.\n",
    "    \n",
    "    ----------------------------------\n",
    "    Data Collection and Processing:\n",
    "    ----------------------------------\n",
    "    \n",
    "    3. (10 points) Do you think the data collected/processed are relevant and sufficient for solving the above problem? \n",
    "       0: not clear\n",
    "       2: I can barely understand what data they are trying to collect/process\n",
    "       4: I can barely understand why the data is relevant to the problem\n",
    "       6: the data are relevant to the problem, but better data can be collected\n",
    "       8: the data collected are relevant and at a proper scale\n",
    "      10: the data are properly collected and they are sufficient\n",
    "\n",
    "    -----------------------------------\n",
    "    Data Exploration:\n",
    "    -----------------------------------\n",
    "    4. How well did the team solve the following task:\n",
    "    \n",
    "    (1) Finding the most popular business categories (5 points):\n",
    "       0: missing answer\n",
    "       1: okay, but with major problems\n",
    "       3: good, but with minor problems\n",
    "       5: perfect\n",
    "    \n",
    "    (2) Find the most popular business objects (5 points)\n",
    "       0: missing answer\n",
    "       1: okay, but with major problems\n",
    "       3: good, but with minor problems\n",
    "       5: perfect\n",
    "    \n",
    "    -----------------------------------\n",
    "    The Solution\n",
    "    -----------------------------------\n",
    "    5.  how well did the team describe the solution they used to solve the problem? (10 points)\n",
    "       0: not clear\n",
    "       2: I can barely understand\n",
    "       4: okay, can be improved\n",
    "       6: good, but can be improved\n",
    "       8: very good\n",
    "       10: crystal clear\n",
    "       \n",
    "    6. how well is the solution in solving the problem? (10 points)\n",
    "       0: not relevant\n",
    "       2: barely relevant to the problem\n",
    "       4: okay solution, but there is an easier solution.\n",
    "       6: good, but can be improved\n",
    "       8: very good, but solution is simple/old\n",
    "       10: innovative and technically sound\n",
    "       \n",
    "    7. how well did the team implement the solution in python? (10 points)\n",
    "       0: the code is not relevant to the solution proposed\n",
    "       2: the code is barely understandable, but not relevant\n",
    "       4: okay, the code is clear but incorrect\n",
    "       6: good, the code is correct, but with major errors\n",
    "       8: very good, the code is correct, but with minor errors\n",
    "      10: perfect \n",
    "   \n",
    "    -----------------------------------\n",
    "    The Results\n",
    "    -----------------------------------\n",
    "     8.  How well did the team present the results they found in the data? (10 points)\n",
    "       0: not clear\n",
    "       2: I can barely understand\n",
    "       4: okay, can be improved\n",
    "       6: good, but can be improved\n",
    "       8: very good\n",
    "      10: crystal clear\n",
    "       \n",
    "     9.  How do you think of the results they found in the data?  (5 points)\n",
    "       0: not clear\n",
    "       1: likely to be wrong\n",
    "       2: okay, maybe wrong\n",
    "       3: good, but can be improved\n",
    "       4: make sense, but not interesting\n",
    "       5: make sense and very interesting\n",
    "     \n",
    "    -----------------------------------\n",
    "    The Presentation\n",
    "    -----------------------------------\n",
    "    10. How all the different parts (data, problem, solution, result) fit together as a coherent story?  \n",
    "       0: they are irrelevant\n",
    "       1: I can barely understand how they are related to each other\n",
    "       2: okay, the problem is good, but the solution doesn't match well, or the problem is not solvable.\n",
    "       3: good, but the results don't make much sense in the context\n",
    "       4: very good fit, but not exciting (the storyline can be improved/polished)\n",
    "       5: a perfect story\n",
    "      \n",
    "    11. Did the presenter make good use of the 10 minutes for presentation?  \n",
    "       0: the team didn't present\n",
    "       1: bad, barely finished a small part of the talk\n",
    "       2: okay, barely finished most parts of the talk.\n",
    "       3: good, finished all parts of the talk, but some part is rushed\n",
    "       4: very good, but the allocation of time on different parts can be improved.\n",
    "       5: perfect timing and good use of time      \n",
    "\n",
    "    12. How well do you think of the presentation (overall quality)?  \n",
    "       0: the team didn't present\n",
    "       1: bad\n",
    "       2: okay\n",
    "       3: good\n",
    "       4: very good\n",
    "       5: perfect\n",
    "\n",
    "\n",
    "    -----------------------------------\n",
    "    Overall: \n",
    "    -----------------------------------\n",
    "    13. How many points out of the 100 do you give to this project in total?  Please don't worry about the absolute scores, we will rescale the final grading according to the performance of all teams in the class.\n",
    "    Total score:\n",
    "    \n",
    "    14. What are the strengths of this project? Briefly, list up to 3 strengths.\n",
    "       1: \n",
    "       2:\n",
    "       3:\n",
    "    \n",
    "    15. What are the weaknesses of this project? Briefly, list up to 3 weaknesses.\n",
    "       1:\n",
    "       2:\n",
    "       3:\n",
    "    \n",
    "    16. Detailed comments and suggestions. What suggestions do you have for this project to improve its quality further.\n",
    "    \n",
    "    \n",
    "    \n",
    "\n",
    "    ---------------------------------\n",
    "    Your Vote: \n",
    "    ---------------------------------\n",
    "    [Overall Quality] Between the two submissions that you are reviewing, which team would you vote for a better score?  (5 bonus points)\n",
    "        0: I vote the other team is better than this team\n",
    "        5: I vote this team is better than the other team \n",
    "        \n",
    "\n",
    "\n"
   ]
  },
  {
   "cell_type": "code",
   "execution_count": null,
   "metadata": {},
   "outputs": [],
   "source": []
  }
 ],
 "metadata": {
  "kernelspec": {
   "display_name": "Python 3",
   "language": "python",
   "name": "python3"
  },
  "language_info": {
   "codemirror_mode": {
    "name": "ipython",
    "version": 3
   },
   "file_extension": ".py",
   "mimetype": "text/x-python",
   "name": "python",
   "nbconvert_exporter": "python",
   "pygments_lexer": "ipython3",
   "version": "3.7.4"
  }
 },
 "nbformat": 4,
 "nbformat_minor": 1
}
